{
 "cells": [
  {
   "cell_type": "code",
   "execution_count": 16,
   "id": "79296234-c365-462f-8af7-604b222b6a1a",
   "metadata": {},
   "outputs": [
    {
     "name": "stdout",
     "output_type": "stream",
     "text": [
      "The dotenv extension is already loaded. To reload it, use:\n",
      "  %reload_ext dotenv\n"
     ]
    }
   ],
   "source": [
    "%load_ext dotenv\n",
    "%dotenv"
   ]
  },
  {
   "cell_type": "code",
   "execution_count": 17,
   "id": "04b786fe-3fe7-4f88-9aaf-7b59cd7e8712",
   "metadata": {},
   "outputs": [],
   "source": [
    "from langchain_openai.embeddings import OpenAIEmbeddings\n",
    "from langchain_chroma import Chroma\n",
    "from langchain_core.documents import Document\n",
    "from langchain_core.prompts import PromptTemplate\n",
    "from langchain_openai import ChatOpenAI\n",
    "from langchain_core.runnables import RunnablePassthrough\n",
    "from langchain_core.runnables import RunnableParallel\n",
    "from langchain_core.output_parsers import StrOutputParser"
   ]
  },
  {
   "cell_type": "code",
   "execution_count": 18,
   "id": "cb6554b1-2e96-484e-935a-1dc22e59ecaa",
   "metadata": {},
   "outputs": [],
   "source": [
    "embedding = OpenAIEmbeddings(model='text-embedding-ada-002')"
   ]
  },
  {
   "cell_type": "code",
   "execution_count": 19,
   "id": "efc97a0c-4122-48ab-91a0-e7acc24091b6",
   "metadata": {},
   "outputs": [],
   "source": [
    "vectorstore = Chroma(persist_directory = \"./civ-docs\", \n",
    "                     embedding_function = embedding)"
   ]
  },
  {
   "cell_type": "code",
   "execution_count": 38,
   "id": "73e03176-e3c6-45e6-8fca-fdf2054eb746",
   "metadata": {},
   "outputs": [],
   "source": [
    "#question = \"How do you make a trade offer?\"\n",
    "question = \"how do I do a trade?\""
   ]
  },
  {
   "cell_type": "code",
   "execution_count": 21,
   "id": "7aa2005d-71a3-4128-a7ca-0cefcb2c308b",
   "metadata": {},
   "outputs": [],
   "source": [
    "retrieved_docs = vectorstore.similarity_search(query = question, \n",
    "                                               k = 5)"
   ]
  },
  {
   "cell_type": "code",
   "execution_count": 22,
   "id": "d853b6b6-f4b2-49e6-9822-bd6148a3626a",
   "metadata": {},
   "outputs": [
    {
     "name": "stdout",
     "output_type": "stream",
     "text": [
      "Page Content: T o make an offer, click on one (or more) itemsin your column, and one (or more) items in the other leader’scolumn, and then click on the “make offer” button. If theleader agrees, the deal is done. If not, you can exit diplomacyor try another deal.\n",
      "If you click only on an item in the other leader’s column but\n",
      "not on anything in your column, you are “demanding tribute:”ordering the leader to give you the item for free. He mayrefuse, of course, and his opinion of you will probably decline\n",
      "\n",
      "Page Content: T o make an offer, click on one (or more) itemsin your column, and one (or more) items in the other leader’scolumn, and then click on the “make offer” button. If theleader agrees, the deal is done. If not, you can exit diplomacyor try another deal. If you click only on an item in the other leader’s column but not on anything in your column, you are “demanding tribute:”ordering the leader to give you the item for free. He mayrefuse, of course, and his opinion of you will probably decline\n",
      "\n",
      "Page Content: T o make an offer, click on one (or more) itemsin your column, and one (or more) items in the other leader’scolumn, and then click on the “make offer” button. If theleader agrees, the deal is done. If not, you can exit diplomacyor try another deal. If you click only on an item in the other leader’s column but not on anything in your column, you are “demanding tribute:”ordering the leader to give you the item for free. He mayrefuse, of course, and his opinion of you will probably decline\n",
      "\n",
      "Page Content: If you accept, the trade occurs imme-diately. If you decline, the other leader may ask you to make acounter-offer, may end diplomacy, or may declare war on you. 101 Civ4_man_Part2.qxp 10/25/05 1:20 PM Page 100\n",
      "\n",
      "Page Content: If you accept, the trade occurs imme-diately. If you decline, the other leader may ask you to make acounter-offer, may end diplomacy, or may declare war on you. 101 Civ4_man_Part2.qxp 10/25/05 1:20 PM Page 100\n",
      "\n"
     ]
    }
   ],
   "source": [
    "for i in retrieved_docs:\n",
    "    print(f\"Page Content: {i.page_content}\\n\")"
   ]
  },
  {
   "cell_type": "code",
   "execution_count": 23,
   "id": "e3ca5793-f244-47f9-8eda-3cff3fb5ddc7",
   "metadata": {},
   "outputs": [],
   "source": [
    "retrieved_docs = vectorstore.max_marginal_relevance_search(\n",
    "    query=question, \n",
    "    k=3, \n",
    "    lambda_mult = 0.8, # diversity\n",
    ")"
   ]
  },
  {
   "cell_type": "code",
   "execution_count": 24,
   "id": "6021fec1-34db-4199-bd0c-421d91c0e9d8",
   "metadata": {},
   "outputs": [
    {
     "name": "stdout",
     "output_type": "stream",
     "text": [
      "Page Content: T o make an offer, click on one (or more) itemsin your column, and one (or more) items in the other leader’scolumn, and then click on the “make offer” button. If theleader agrees, the deal is done. If not, you can exit diplomacyor try another deal.\n",
      "If you click only on an item in the other leader’s column but\n",
      "not on anything in your column, you are “demanding tribute:”ordering the leader to give you the item for free. He mayrefuse, of course, and his opinion of you will probably decline\n",
      "\n",
      "Page Content: If you accept, the trade occurs imme-diately. If you decline, the other leader may ask you to make acounter-offer, may end diplomacy, or may declare war on you. 101 Civ4_man_Part2.qxp 10/25/05 1:20 PM Page 100\n",
      "\n",
      "Page Content: Offer Peace Available only if you’re at war. Trade Try to trade stuff with the other civilization.This takes you tothe Trade Table (see following page). Review Ongoing Deals Some “annual” deals continue over time (see below). Thisoption lets you review any such deals you have in place withthe leader. Exit End the diplomatic session. 100MAKING TRADE OFFERS On the Trade Table, all of your tradable items are listed in theright-hand column, while the other leader’s stuff is in the left-hand column\n",
      "\n"
     ]
    }
   ],
   "source": [
    "for i in retrieved_docs:\n",
    "    print(f\"Page Content: {i.page_content}\\n\")"
   ]
  },
  {
   "cell_type": "code",
   "execution_count": 32,
   "id": "07954dba-2c5e-442d-97ab-71f930459be8",
   "metadata": {},
   "outputs": [],
   "source": [
    "retriever = vectorstore.as_retriever(search_type = 'mmr', # max margin relevance\n",
    "                                     search_kwargs = {'k':3, \n",
    "                                                      'lambda_mult':0.7})"
   ]
  },
  {
   "cell_type": "code",
   "execution_count": 33,
   "id": "0d5110d8-15ef-4047-9300-fbfdf4d3cfcd",
   "metadata": {},
   "outputs": [],
   "source": [
    "TEMPLATE = '''\n",
    "Answer the following question:\n",
    "{question}\n",
    "\n",
    "To answer the question, use only the following context:\n",
    "{context}\n",
    "'''\n",
    "\n",
    "prompt_template = PromptTemplate.from_template(TEMPLATE)"
   ]
  },
  {
   "cell_type": "code",
   "execution_count": 34,
   "id": "5fe6c431-27c0-49e9-8c84-71a6751152aa",
   "metadata": {},
   "outputs": [],
   "source": [
    "chat = ChatOpenAI(model_name = 'gpt-4', \n",
    "                  seed= 403,\n",
    "                  max_tokens = 250)"
   ]
  },
  {
   "cell_type": "code",
   "execution_count": 39,
   "id": "864b4853-2ad2-40d1-b9c4-1933340aa5e0",
   "metadata": {},
   "outputs": [],
   "source": [
    "chain = ({'context': retriever, \n",
    "         'question': RunnablePassthrough()} \n",
    "         | prompt_template \n",
    "         | chat \n",
    "         | StrOutputParser())"
   ]
  },
  {
   "cell_type": "code",
   "execution_count": 40,
   "id": "86a9475c-bd38-4528-bfb9-a51f0b03a69b",
   "metadata": {},
   "outputs": [],
   "source": [
    "response = chain.invoke(question)"
   ]
  },
  {
   "cell_type": "code",
   "execution_count": 41,
   "id": "239217da-ddce-45cd-b4c8-817efa838e0f",
   "metadata": {},
   "outputs": [
    {
     "name": "stdout",
     "output_type": "stream",
     "text": [
      "To do a trade, you need to go to the Trade Table where all of your tradeable items are listed in the right-hand column, while the other leader's items are listed in the left-hand column. There are two distinct kinds of items you can trade: Immediate items, which can only be traded for other immediate items, and Annual items, which can only be traded for other annuals. Please note that to trade technology, either you or your partner must know the required technology. Once a deal is agreed upon, the benefits of resources gained through trade are realized once the city is connected to your civilization's capital via a trade network.\n"
     ]
    }
   ],
   "source": [
    "print(response)"
   ]
  },
  {
   "cell_type": "code",
   "execution_count": null,
   "id": "ae5e3877-2ab0-4e49-b323-7b29bfa75bb1",
   "metadata": {},
   "outputs": [],
   "source": []
  }
 ],
 "metadata": {
  "kernelspec": {
   "display_name": "Python 3 (ipykernel)",
   "language": "python",
   "name": "python3"
  },
  "language_info": {
   "codemirror_mode": {
    "name": "ipython",
    "version": 3
   },
   "file_extension": ".py",
   "mimetype": "text/x-python",
   "name": "python",
   "nbconvert_exporter": "python",
   "pygments_lexer": "ipython3",
   "version": "3.12.3"
  }
 },
 "nbformat": 4,
 "nbformat_minor": 5
}

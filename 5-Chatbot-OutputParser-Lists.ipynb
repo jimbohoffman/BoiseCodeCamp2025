{
 "cells": [
  {
   "cell_type": "code",
   "execution_count": 14,
   "id": "7e46777e-5777-4a23-a640-5ac299c8c06f",
   "metadata": {},
   "outputs": [
    {
     "name": "stdout",
     "output_type": "stream",
     "text": [
      "The dotenv extension is already loaded. To reload it, use:\n",
      "  %reload_ext dotenv\n"
     ]
    }
   ],
   "source": [
    "# load any API keys into environmental variables\n",
    "%load_ext dotenv\n",
    "%dotenv"
   ]
  },
  {
   "cell_type": "code",
   "execution_count": 15,
   "id": "43f5f8a4-6c3a-4f80-b984-68f23abd226a",
   "metadata": {},
   "outputs": [],
   "source": [
    "from langchain_openai.chat_models import ChatOpenAI\n",
    "from langchain_core.prompts import ChatPromptTemplate\n",
    "from langchain_core.output_parsers import CommaSeparatedListOutputParser"
   ]
  },
  {
   "cell_type": "code",
   "execution_count": 16,
   "id": "29eb6883-be7f-4caa-8d25-bafe6db9b698",
   "metadata": {},
   "outputs": [],
   "source": [
    "chat = ChatOpenAI(model_name = 'gpt-4', \n",
    "                  seed = 403, \n",
    "                  temperature = 0, \n",
    "                  max_tokens = 200)"
   ]
  },
  {
   "cell_type": "code",
   "execution_count": 17,
   "id": "d6260b98-d448-4318-83a8-7b5ab7d96c22",
   "metadata": {},
   "outputs": [],
   "source": [
    "list_instructions = CommaSeparatedListOutputParser().get_format_instructions()"
   ]
  },
  {
   "cell_type": "code",
   "execution_count": 18,
   "id": "789133b8-a00e-47e4-a9cf-7ff5f43d4a63",
   "metadata": {},
   "outputs": [
    {
     "data": {
      "text/plain": [
       "'Your response should be a list of comma separated values, eg: `foo, bar, baz` or `foo,bar,baz`'"
      ]
     },
     "execution_count": 18,
     "metadata": {},
     "output_type": "execute_result"
    }
   ],
   "source": [
    "list_instructions"
   ]
  },
  {
   "cell_type": "code",
   "execution_count": 19,
   "id": "580b8c84-f045-47a5-96a3-183bc4bd34c0",
   "metadata": {},
   "outputs": [],
   "source": [
    "chat_template = ChatPromptTemplate.from_messages([\n",
    "    ('human', \"Could you list the types of {subject}? \\n\" + list_instructions)])"
   ]
  },
  {
   "cell_type": "code",
   "execution_count": 20,
   "id": "db89a457-7f65-4fb1-b730-a71ed012caad",
   "metadata": {},
   "outputs": [
    {
     "name": "stdout",
     "output_type": "stream",
     "text": [
      "Could you list the types of {subject}? \n",
      "Your response should be a list of comma separated values, eg: `foo, bar, baz` or `foo,bar,baz`\n"
     ]
    }
   ],
   "source": [
    "print(chat_template.messages[0].prompt.template)"
   ]
  },
  {
   "cell_type": "code",
   "execution_count": 21,
   "id": "79bd63ec-e0fc-463c-836a-5d7b87a43fe1",
   "metadata": {},
   "outputs": [],
   "source": [
    "chat_template_result = chat_template.invoke({'subject':'Large Language Models'})"
   ]
  },
  {
   "cell_type": "code",
   "execution_count": 22,
   "id": "980b8729-f88d-4b14-803a-674e8c986e19",
   "metadata": {},
   "outputs": [],
   "source": [
    "list_output_parser = CommaSeparatedListOutputParser()"
   ]
  },
  {
   "cell_type": "code",
   "execution_count": 23,
   "id": "be6af7af-58cb-4850-a914-e4c295671072",
   "metadata": {},
   "outputs": [],
   "source": [
    "chat_result = chat.invoke(chat_template_result)"
   ]
  },
  {
   "cell_type": "code",
   "execution_count": 24,
   "id": "f7279235-df27-4a58-9dfd-4da49698b463",
   "metadata": {},
   "outputs": [
    {
     "data": {
      "text/plain": [
       "['GPT-3',\n",
       " 'BERT',\n",
       " 'Transformer-XL',\n",
       " 'XLNet',\n",
       " 'T5',\n",
       " 'RoBERTa',\n",
       " 'ALBERT',\n",
       " 'ELECTRA',\n",
       " \"OpenAI's GPT-2\",\n",
       " \"Microsoft's Turing NLG\",\n",
       " \"Facebook's BART\",\n",
       " \"Google's Meena\"]"
      ]
     },
     "execution_count": 24,
     "metadata": {},
     "output_type": "execute_result"
    }
   ],
   "source": [
    "list_output_parser.invoke(chat_result)"
   ]
  },
  {
   "cell_type": "code",
   "execution_count": 25,
   "id": "dbe1e53a-ee80-42cf-bb23-209bb18c80bc",
   "metadata": {},
   "outputs": [],
   "source": [
    "chain = chat_template | chat | list_output_parser"
   ]
  },
  {
   "cell_type": "code",
   "execution_count": 26,
   "id": "41fc808a-8572-4126-81c1-6143d0d104c2",
   "metadata": {},
   "outputs": [
    {
     "data": {
      "text/plain": [
       "['GPT-3',\n",
       " 'BERT',\n",
       " 'RoBERTa',\n",
       " 'T5',\n",
       " 'XLNet',\n",
       " 'Transformer-XL',\n",
       " 'GPT-2',\n",
       " 'ALBERT',\n",
       " 'ELECTRA',\n",
       " 'DistilBERT',\n",
       " \"OpenAI's CLIP\",\n",
       " 'DALL-E',\n",
       " 'Meena',\n",
       " 'Blender',\n",
       " 'CTRL',\n",
       " 'ERNIE',\n",
       " 'DeBERTa',\n",
       " 'Longformer',\n",
       " 'BigBird',\n",
       " 'LayoutLM',\n",
       " 'MPNet',\n",
       " 'XLM-R',\n",
       " 'PEGASUS',\n",
       " 'ProphetNet',\n",
       " 'Turing-NLG',\n",
       " 'GPT-Neo',\n",
       " 'GPT-J',\n",
       " 'GPT-4']"
      ]
     },
     "execution_count": 26,
     "metadata": {},
     "output_type": "execute_result"
    }
   ],
   "source": [
    "chain.invoke({'subject':'Large Language Models'})"
   ]
  },
  {
   "cell_type": "code",
   "execution_count": null,
   "id": "2050dc19-9692-4497-9af2-073a012479bf",
   "metadata": {},
   "outputs": [],
   "source": []
  }
 ],
 "metadata": {
  "kernelspec": {
   "display_name": "Python 3 (ipykernel)",
   "language": "python",
   "name": "python3"
  },
  "language_info": {
   "codemirror_mode": {
    "name": "ipython",
    "version": 3
   },
   "file_extension": ".py",
   "mimetype": "text/x-python",
   "name": "python",
   "nbconvert_exporter": "python",
   "pygments_lexer": "ipython3",
   "version": "3.12.3"
  }
 },
 "nbformat": 4,
 "nbformat_minor": 5
}

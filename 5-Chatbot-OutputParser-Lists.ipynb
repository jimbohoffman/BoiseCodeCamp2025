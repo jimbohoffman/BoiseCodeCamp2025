{
 "cells": [
  {
   "cell_type": "code",
   "execution_count": 1,
   "id": "7e46777e-5777-4a23-a640-5ac299c8c06f",
   "metadata": {},
   "outputs": [],
   "source": [
    "# load any API keys into environmental variables\n",
    "%load_ext dotenv\n",
    "%dotenv"
   ]
  },
  {
   "cell_type": "code",
   "execution_count": 5,
   "id": "43f5f8a4-6c3a-4f80-b984-68f23abd226a",
   "metadata": {},
   "outputs": [],
   "source": [
    "from langchain_openai.chat_models import ChatOpenAI\n",
    "# Instead of passing new strings to the chatbot we can create a template\n",
    "from langchain_core.prompts import ChatPromptTemplate\n",
    "# let's look a more interesting output parser, we'll parse a list of things\n",
    "from langchain_core.output_parsers import CommaSeparatedListOutputParser"
   ]
  },
  {
   "cell_type": "code",
   "execution_count": 16,
   "id": "29eb6883-be7f-4caa-8d25-bafe6db9b698",
   "metadata": {},
   "outputs": [],
   "source": [
    "chat = ChatOpenAI(model_name = 'gpt-4', \n",
    "                  seed = 403, \n",
    "                  temperature = 0, \n",
    "                  max_tokens = 200)"
   ]
  },
  {
   "cell_type": "code",
   "execution_count": 3,
   "id": "d6260b98-d448-4318-83a8-7b5ab7d96c22",
   "metadata": {},
   "outputs": [],
   "source": [
    "# the output parser has instruction for the chatbot to follow\n",
    "list_instructions = CommaSeparatedListOutputParser().get_format_instructions()"
   ]
  },
  {
   "cell_type": "code",
   "execution_count": 4,
   "id": "789133b8-a00e-47e4-a9cf-7ff5f43d4a63",
   "metadata": {},
   "outputs": [
    {
     "data": {
      "text/plain": [
       "'Your response should be a list of comma separated values, eg: `foo, bar, baz` or `foo,bar,baz`'"
      ]
     },
     "execution_count": 4,
     "metadata": {},
     "output_type": "execute_result"
    }
   ],
   "source": [
    "# let's look at the instructions\n",
    "list_instructions"
   ]
  },
  {
   "cell_type": "code",
   "execution_count": 6,
   "id": "580b8c84-f045-47a5-96a3-183bc4bd34c0",
   "metadata": {},
   "outputs": [],
   "source": [
    "# create the chat template to have a standard question and have the subject of the question be a parameter\n",
    "chat_template = ChatPromptTemplate.from_messages([\n",
    "    ('human', \"Could you list the types of {subject}? \\n\" + list_instructions)])"
   ]
  },
  {
   "cell_type": "code",
   "execution_count": 8,
   "id": "db89a457-7f65-4fb1-b730-a71ed012caad",
   "metadata": {},
   "outputs": [
    {
     "name": "stdout",
     "output_type": "stream",
     "text": [
      "Could you list the types of {subject}? \n",
      "Your response should be a list of comma separated values, eg: `foo, bar, baz` or `foo,bar,baz`\n"
     ]
    }
   ],
   "source": [
    "# let's look at the template\n",
    "print(chat_template.messages[0].prompt.template)"
   ]
  },
  {
   "cell_type": "code",
   "execution_count": 9,
   "id": "79bd63ec-e0fc-463c-836a-5d7b87a43fe1",
   "metadata": {},
   "outputs": [],
   "source": [
    "# invove the template to fill in the parameters\n",
    "chat_template_result = chat_template.invoke({'subject':'Large Language Models'})"
   ]
  },
  {
   "cell_type": "code",
   "execution_count": 22,
   "id": "980b8729-f88d-4b14-803a-674e8c986e19",
   "metadata": {},
   "outputs": [],
   "source": [
    "# get the parser to use\n",
    "list_output_parser = CommaSeparatedListOutputParser()"
   ]
  },
  {
   "cell_type": "code",
   "execution_count": 10,
   "id": "be6af7af-58cb-4850-a914-e4c295671072",
   "metadata": {},
   "outputs": [
    {
     "ename": "NameError",
     "evalue": "name 'chat' is not defined",
     "output_type": "error",
     "traceback": [
      "\u001b[1;31m---------------------------------------------------------------------------\u001b[0m",
      "\u001b[1;31mNameError\u001b[0m                                 Traceback (most recent call last)",
      "Cell \u001b[1;32mIn[10], line 2\u001b[0m\n\u001b[0;32m      1\u001b[0m \u001b[38;5;66;03m# call the chatbot using the template\u001b[39;00m\n\u001b[1;32m----> 2\u001b[0m chat_result \u001b[38;5;241m=\u001b[39m chat\u001b[38;5;241m.\u001b[39minvoke(chat_template_result)\n",
      "\u001b[1;31mNameError\u001b[0m: name 'chat' is not defined"
     ]
    }
   ],
   "source": [
    "# call the chatbot using the template\n",
    "chat_result = chat.invoke(chat_template_result)"
   ]
  },
  {
   "cell_type": "code",
   "execution_count": 11,
   "id": "f7279235-df27-4a58-9dfd-4da49698b463",
   "metadata": {},
   "outputs": [
    {
     "ename": "NameError",
     "evalue": "name 'list_output_parser' is not defined",
     "output_type": "error",
     "traceback": [
      "\u001b[1;31m---------------------------------------------------------------------------\u001b[0m",
      "\u001b[1;31mNameError\u001b[0m                                 Traceback (most recent call last)",
      "Cell \u001b[1;32mIn[11], line 2\u001b[0m\n\u001b[0;32m      1\u001b[0m \u001b[38;5;66;03m# invoke the parser to format the output\u001b[39;00m\n\u001b[1;32m----> 2\u001b[0m list_output_parser\u001b[38;5;241m.\u001b[39minvoke(chat_result)\n",
      "\u001b[1;31mNameError\u001b[0m: name 'list_output_parser' is not defined"
     ]
    }
   ],
   "source": [
    "# invoke the parser to format the output\n",
    "list_output_parser.invoke(chat_result)"
   ]
  },
  {
   "cell_type": "code",
   "execution_count": 25,
   "id": "dbe1e53a-ee80-42cf-bb23-209bb18c80bc",
   "metadata": {},
   "outputs": [],
   "source": [
    "# now let's introduce the concept of a chain, hence, the name of LangChain\n",
    "# a chain is a way of strining together several class invokes into one call\n",
    "# in this case the call's input will be passes into the chat_template invoke call\n",
    "# the output from chat_template invoke will be the input for chat invoke\n",
    "# and the output from chat will be the input for list_output_parser invove\n",
    "# finally, the output from list_output_parser will be returned from the chain\n",
    "chain = chat_template | chat | list_output_parser"
   ]
  },
  {
   "cell_type": "code",
   "execution_count": 26,
   "id": "41fc808a-8572-4126-81c1-6143d0d104c2",
   "metadata": {},
   "outputs": [
    {
     "data": {
      "text/plain": [
       "['GPT-3',\n",
       " 'BERT',\n",
       " 'RoBERTa',\n",
       " 'T5',\n",
       " 'XLNet',\n",
       " 'Transformer-XL',\n",
       " 'GPT-2',\n",
       " 'ALBERT',\n",
       " 'ELECTRA',\n",
       " 'DistilBERT',\n",
       " \"OpenAI's CLIP\",\n",
       " 'DALL-E',\n",
       " 'Meena',\n",
       " 'Blender',\n",
       " 'CTRL',\n",
       " 'ERNIE',\n",
       " 'DeBERTa',\n",
       " 'Longformer',\n",
       " 'BigBird',\n",
       " 'LayoutLM',\n",
       " 'MPNet',\n",
       " 'XLM-R',\n",
       " 'PEGASUS',\n",
       " 'ProphetNet',\n",
       " 'Turing-NLG',\n",
       " 'GPT-Neo',\n",
       " 'GPT-J',\n",
       " 'GPT-4']"
      ]
     },
     "execution_count": 26,
     "metadata": {},
     "output_type": "execute_result"
    }
   ],
   "source": [
    "chain.invoke({'subject':'Large Language Models'})"
   ]
  },
  {
   "cell_type": "code",
   "execution_count": null,
   "id": "2050dc19-9692-4497-9af2-073a012479bf",
   "metadata": {},
   "outputs": [],
   "source": []
  }
 ],
 "metadata": {
  "kernelspec": {
   "display_name": "Python 3 (ipykernel)",
   "language": "python",
   "name": "python3"
  },
  "language_info": {
   "codemirror_mode": {
    "name": "ipython",
    "version": 3
   },
   "file_extension": ".py",
   "mimetype": "text/x-python",
   "name": "python",
   "nbconvert_exporter": "python",
   "pygments_lexer": "ipython3",
   "version": "3.12.3"
  }
 },
 "nbformat": 4,
 "nbformat_minor": 5
}

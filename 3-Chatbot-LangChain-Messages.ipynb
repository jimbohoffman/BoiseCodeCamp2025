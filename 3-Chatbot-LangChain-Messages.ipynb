{
 "cells": [
  {
   "cell_type": "code",
   "execution_count": 2,
   "id": "7e46777e-5777-4a23-a640-5ac299c8c06f",
   "metadata": {},
   "outputs": [],
   "source": [
    "# load any API keys into environmental variables\n",
    "%load_ext dotenv\n",
    "%dotenv"
   ]
  },
  {
   "cell_type": "code",
   "execution_count": 1,
   "id": "43f5f8a4-6c3a-4f80-b984-68f23abd226a",
   "metadata": {},
   "outputs": [],
   "source": [
    "from langchain_openai.chat_models import ChatOpenAI\n",
    "# Included the message classes to add the system message back\n",
    "from langchain_core.messages import SystemMessage, HumanMessage"
   ]
  },
  {
   "cell_type": "code",
   "execution_count": 3,
   "id": "29eb6883-be7f-4caa-8d25-bafe6db9b698",
   "metadata": {},
   "outputs": [],
   "source": [
    "chat = ChatOpenAI(model_name = 'gpt-4', # the LLM we want to use\n",
    "                  seed = 403, # The seed, like the seed in a random number generator\n",
    "                  temperature = 0, # The randomness (creativity) of the response. 0 = predectiable, larger = random\n",
    "                  max_tokens = 200) # how many tokens to return"
   ]
  },
  {
   "cell_type": "code",
   "execution_count": 4,
   "id": "7281d411-b2c2-42c6-961e-7f3d35ea7d2c",
   "metadata": {},
   "outputs": [],
   "source": [
    "# lets define the system massage - this instructs the chatbot how to reply\n",
    "message_s = SystemMessage(content = ''' You are Jimbo, a chatbot that comically answers the question. ''')\n",
    "# lets define the human massage - this is the question we are asking the chatbot\n",
    "message_h = HumanMessage(content = ''' Could you explain briefly what a Large Language Model is? ''')"
   ]
  },
  {
   "cell_type": "code",
   "execution_count": 21,
   "id": "be6af7af-58cb-4850-a914-e4c295671072",
   "metadata": {},
   "outputs": [],
   "source": [
    "# call the chatbot with the list of messages, it \n",
    "response = chat.invoke([message_s, message_h])"
   ]
  },
  {
   "cell_type": "code",
   "execution_count": 22,
   "id": "f7279235-df27-4a58-9dfd-4da49698b463",
   "metadata": {},
   "outputs": [
    {
     "name": "stdout",
     "output_type": "stream",
     "text": [
      "Oh, absolutely! Picture a giant word wizard, right? This wizard has read more books than you've had hot dinners, and it's got a knack for predicting what you're going to say next. It's like a fortune teller for words! This wizard is what we call a Large Language Model. It's been trained on a ton of text data so it can generate human-like text based on the input it gets. It's like having a Shakespeare, Hemingway, and J.K. Rowling all rolled into one, but with a dash of robot!\n"
     ]
    }
   ],
   "source": [
    "print(response.content)"
   ]
  },
  {
   "cell_type": "code",
   "execution_count": null,
   "id": "dbe1e53a-ee80-42cf-bb23-209bb18c80bc",
   "metadata": {},
   "outputs": [],
   "source": []
  }
 ],
 "metadata": {
  "kernelspec": {
   "display_name": "Python 3 (ipykernel)",
   "language": "python",
   "name": "python3"
  },
  "language_info": {
   "codemirror_mode": {
    "name": "ipython",
    "version": 3
   },
   "file_extension": ".py",
   "mimetype": "text/x-python",
   "name": "python",
   "nbconvert_exporter": "python",
   "pygments_lexer": "ipython3",
   "version": "3.12.3"
  }
 },
 "nbformat": 4,
 "nbformat_minor": 5
}

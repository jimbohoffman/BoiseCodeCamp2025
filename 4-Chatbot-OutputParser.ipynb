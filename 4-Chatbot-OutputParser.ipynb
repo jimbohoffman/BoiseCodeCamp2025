{
 "cells": [
  {
   "cell_type": "code",
   "execution_count": 1,
   "id": "7e46777e-5777-4a23-a640-5ac299c8c06f",
   "metadata": {},
   "outputs": [],
   "source": [
    "# load any API keys into environmental variables\n",
    "%load_ext dotenv\n",
    "%dotenv"
   ]
  },
  {
   "cell_type": "code",
   "execution_count": 2,
   "id": "43f5f8a4-6c3a-4f80-b984-68f23abd226a",
   "metadata": {},
   "outputs": [],
   "source": [
    "from langchain_openai.chat_models import ChatOpenAI\n",
    "from langchain_core.messages import SystemMessage, HumanMessage\n",
    "# lets make the output more readable\n",
    "from langchain_core.output_parsers import StrOutputParser"
   ]
  },
  {
   "cell_type": "code",
   "execution_count": 3,
   "id": "29eb6883-be7f-4caa-8d25-bafe6db9b698",
   "metadata": {},
   "outputs": [],
   "source": [
    "chat = ChatOpenAI(model_name = 'gpt-4', \n",
    "                  seed = 2025, \n",
    "                  temperature = 0, \n",
    "                  max_tokens = 200)"
   ]
  },
  {
   "cell_type": "code",
   "execution_count": 4,
   "id": "7281d411-b2c2-42c6-961e-7f3d35ea7d2c",
   "metadata": {},
   "outputs": [],
   "source": [
    "# lets define the system and human massage\n",
    "message_s = SystemMessage(content = ''' You are Jimbo, a chatbot that comically answers the question. ''')\n",
    "message_h = HumanMessage(content = ''' Could you explain briefly what a Large Language Model is? ''')"
   ]
  },
  {
   "cell_type": "code",
   "execution_count": 5,
   "id": "be6af7af-58cb-4850-a914-e4c295671072",
   "metadata": {},
   "outputs": [],
   "source": [
    "response = chat.invoke([message_s, message_h])"
   ]
  },
  {
   "cell_type": "code",
   "execution_count": 6,
   "id": "f7279235-df27-4a58-9dfd-4da49698b463",
   "metadata": {},
   "outputs": [
    {
     "data": {
      "text/plain": [
       "AIMessage(content=\"Oh, absolutely! Picture a giant word wizard, right? This wizard has read more books than you've had hot dinners, and it's got a knack for predicting what you're going to say next. It's like a fortune teller for words! This wizard is what we call a Large Language Model. It's been trained on a ton of text data so it can generate human-like text based on the input it gets. It's like having a Shakespeare, Hemingway, and J.K. Rowling all rolled into one, but with a dash of amnesia because it doesn't remember past interactions. So, it's not perfect, but hey, who is?\", additional_kwargs={'refusal': None}, response_metadata={'token_usage': {'completion_tokens': 136, 'prompt_tokens': 39, 'total_tokens': 175, 'completion_tokens_details': {'accepted_prediction_tokens': 0, 'audio_tokens': 0, 'reasoning_tokens': 0, 'rejected_prediction_tokens': 0}, 'prompt_tokens_details': {'audio_tokens': 0, 'cached_tokens': 0}}, 'model_name': 'gpt-4-0613', 'system_fingerprint': None, 'id': 'chatcmpl-BT9hyKkNyznWIGLFx1I4XmNNfofU9', 'finish_reason': 'stop', 'logprobs': None}, id='run-fc117c21-576f-4f2a-9731-171e0121da94-0', usage_metadata={'input_tokens': 39, 'output_tokens': 136, 'total_tokens': 175, 'input_token_details': {'audio': 0, 'cache_read': 0}, 'output_token_details': {'audio': 0, 'reasoning': 0}})"
      ]
     },
     "execution_count": 6,
     "metadata": {},
     "output_type": "execute_result"
    }
   ],
   "source": [
    "response"
   ]
  },
  {
   "cell_type": "code",
   "execution_count": 3,
   "id": "dbe1e53a-ee80-42cf-bb23-209bb18c80bc",
   "metadata": {},
   "outputs": [],
   "source": [
    "# we'll create a output parser to dispaly the answer\n",
    "str_output_parser = StrOutputParser()"
   ]
  },
  {
   "cell_type": "code",
   "execution_count": 8,
   "id": "c01dbbff-ee26-4d15-ab1b-d3be67858885",
   "metadata": {},
   "outputs": [
    {
     "data": {
      "text/plain": [
       "\"Oh, absolutely! Picture a giant word wizard, right? This wizard has read more books than you've had hot dinners, and it's got a knack for predicting what you're going to say next. It's like a fortune teller for words! This wizard is what we call a Large Language Model. It's been trained on a ton of text data so it can generate human-like text based on the input it gets. It's like having a Shakespeare, Hemingway, and J.K. Rowling all rolled into one, but with a dash of amnesia because it doesn't remember past interactions. So, it's not perfect, but hey, who is?\""
      ]
     },
     "execution_count": 8,
     "metadata": {},
     "output_type": "execute_result"
    }
   ],
   "source": [
    "response_parsed = str_output_parser.invoke(response)\n",
    "response_parsed"
   ]
  },
  {
   "cell_type": "code",
   "execution_count": null,
   "id": "7adc6dea-3690-4214-9131-a1bd021d6cdf",
   "metadata": {},
   "outputs": [],
   "source": []
  }
 ],
 "metadata": {
  "kernelspec": {
   "display_name": "Python 3 (ipykernel)",
   "language": "python",
   "name": "python3"
  },
  "language_info": {
   "codemirror_mode": {
    "name": "ipython",
    "version": 3
   },
   "file_extension": ".py",
   "mimetype": "text/x-python",
   "name": "python",
   "nbconvert_exporter": "python",
   "pygments_lexer": "ipython3",
   "version": "3.12.3"
  }
 },
 "nbformat": 4,
 "nbformat_minor": 5
}

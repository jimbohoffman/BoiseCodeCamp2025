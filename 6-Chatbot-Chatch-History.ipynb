{
 "cells": [
  {
   "cell_type": "code",
   "execution_count": null,
   "id": "7e46777e-5777-4a23-a640-5ac299c8c06f",
   "metadata": {},
   "outputs": [],
   "source": [
    "# load any API keys into environmental variables\n",
    "%load_ext dotenv\n",
    "%dotenv"
   ]
  },
  {
   "cell_type": "code",
   "execution_count": null,
   "id": "43f5f8a4-6c3a-4f80-b984-68f23abd226a",
   "metadata": {},
   "outputs": [],
   "source": [
    "from langchain_openai.chat_models import ChatOpenAI\n",
    "from langchain.memory import ConversationSummaryMemory\n",
    "from langchain_core.prompts import PromptTemplate\n",
    "from langchain_core.output_parsers import StrOutputParser"
   ]
  },
  {
   "cell_type": "code",
   "execution_count": null,
   "id": "29eb6883-be7f-4caa-8d25-bafe6db9b698",
   "metadata": {},
   "outputs": [],
   "source": [
    "chat = ChatOpenAI(model_name = 'gpt-4', \n",
    "                  seed = 2025, \n",
    "                  temperature = 0, \n",
    "                  max_tokens = 200)"
   ]
  },
  {
   "cell_type": "code",
   "execution_count": 13,
   "id": "37463e07-7187-490d-b4cb-ce9d7bdf70ba",
   "metadata": {},
   "outputs": [],
   "source": [
    "TEMPLATE = '''\n",
    "The following is a friendly conversation between a human and an AI. \n",
    "The AI is talkative and provides lots of specific details from its context. \n",
    "If the AI does not know the answer to a question, it truthfully says it does not know.\n",
    "\n",
    "Current conversation:\n",
    "{message_log}\n",
    "\n",
    "Human: \n",
    "{question}\n",
    "\n",
    "AI:\n",
    "'''\n",
    "\n",
    "prompt_template = PromptTemplate.from_template(template=TEMPLATE)"
   ]
  },
  {
   "cell_type": "code",
   "execution_count": 14,
   "id": "a7b41b8f-ade0-405a-862e-4852760cee31",
   "metadata": {},
   "outputs": [],
   "source": [
    "chain = prompt_template | chat | StrOutputParser()"
   ]
  },
  {
   "cell_type": "code",
   "execution_count": 15,
   "id": "701a72f2-59a1-4cc8-9487-44d3e2a2c58e",
   "metadata": {},
   "outputs": [
    {
     "data": {
      "text/plain": [
       "\"Sure, a Large Language Model is a type of artificial intelligence model that's designed to understand and generate human-like text. It's trained on a diverse range of internet text, but it doesn't know specifics about which documents were in its training set or have access to any personal data unless explicitly provided during the conversation. It generates responses by predicting the probability of each subsequent word based on the words it has seen so far in the conversation. It's important to note that while it can generate detailed and coherent responses, it doesn't have beliefs or desires as it's just a machine learning model.\""
      ]
     },
     "execution_count": 15,
     "metadata": {},
     "output_type": "execute_result"
    }
   ],
   "source": [
    "chain.invoke({'message_log':\"\",\n",
    "              'question':\"Could you explain briefly what a Large Language Model is?\"})"
   ]
  },
  {
   "cell_type": "code",
   "execution_count": 16,
   "id": "be6af7af-58cb-4850-a914-e4c295671072",
   "metadata": {},
   "outputs": [
    {
     "data": {
      "text/plain": [
       "'Absolutely, there are several types of Large Language Models, and they are often categorized based on their architecture. Here are a few examples:\\n\\n1. Transformer Models: These are currently the most popular type of large language models. They use a mechanism called attention to weigh the importance of different words in a sentence. GPT-3, developed by OpenAI, is an example of a transformer model.\\n\\n2. Recurrent Neural Networks (RNNs): These models process text sequentially, making them good at handling long-range dependencies in text. However, they can be slower to train than other models. An example of an RNN is the Long Short-Term Memory (LSTM) model.\\n\\n3. Convolutional Neural Networks (CNNs): These models are traditionally used for image processing but can also be used for text. They process text in chunks, making them faster but potentially less accurate than RNNs.\\n\\n4. Transformer-XL: This is an extension of the Transformer model that is designed'"
      ]
     },
     "execution_count": 16,
     "metadata": {},
     "output_type": "execute_result"
    }
   ],
   "source": [
    "chain.invoke({'message_log':\"The AI provides a brief eplaination of Large Language Models, Sure, a Large Language Model is a type of artificial intelligence model that is trained on a vast amount of text data. It's designed to generate human-like text based on the input it's given. These models are capable of understanding and generating text in a way that captures deep patterns of language, context, and even some elements of common sense reasoning. \\n\\nOne of the most well-known examples of a Large Language Model is GPT-3, developed by OpenAI. It has 175 billion machine learning parameters and was trained on hundreds of gigabytes of text. These models can be used for a variety of tasks, such as translation, question answering, and even writing articles or poetry. However, they are not perfect and can sometimes produce incorrect or nonsensical responses.\",\n",
    "              'question':\"Could you list some types?\"})"
   ]
  },
  {
   "cell_type": "code",
   "execution_count": null,
   "id": "7adc6dea-3690-4214-9131-a1bd021d6cdf",
   "metadata": {},
   "outputs": [],
   "source": []
  }
 ],
 "metadata": {
  "kernelspec": {
   "display_name": "Python 3 (ipykernel)",
   "language": "python",
   "name": "python3"
  },
  "language_info": {
   "codemirror_mode": {
    "name": "ipython",
    "version": 3
   },
   "file_extension": ".py",
   "mimetype": "text/x-python",
   "name": "python",
   "nbconvert_exporter": "python",
   "pygments_lexer": "ipython3",
   "version": "3.12.3"
  }
 },
 "nbformat": 4,
 "nbformat_minor": 5
}
